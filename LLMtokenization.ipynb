{
  "nbformat": 4,
  "nbformat_minor": 0,
  "metadata": {
    "colab": {
      "provenance": [],
      "mount_file_id": "1G0yAhxe6apQY57anyN4PXBryJw3HnKpT",
      "authorship_tag": "ABX9TyNWbQKr1rkUijPcR09S/Pd6",
      "include_colab_link": true
    },
    "kernelspec": {
      "name": "python3",
      "display_name": "Python 3"
    },
    "language_info": {
      "name": "python"
    }
  },
  "cells": [
    {
      "cell_type": "markdown",
      "metadata": {
        "id": "view-in-github",
        "colab_type": "text"
      },
      "source": [
        "<a href=\"https://colab.research.google.com/github/anshulnangru/LLM/blob/main/LLMtokenization.ipynb\" target=\"_parent\"><img src=\"https://colab.research.google.com/assets/colab-badge.svg\" alt=\"Open In Colab\"/></a>"
      ]
    },
    {
      "cell_type": "code",
      "execution_count": 25,
      "metadata": {
        "id": "TeRtFN62CVNw"
      },
      "outputs": [],
      "source": [
        "with open(\"/content/drive/MyDrive/Data for LLM/Jojo's Bizarre Adventure - Over Heaven.txt\",\"r\", encoding=\"utf-8\") as f:\n",
        "  raw_text=f.read()"
      ]
    },
    {
      "cell_type": "code",
      "source": [
        "print(len(raw_text))\n",
        "print(raw_text[:500])"
      ],
      "metadata": {
        "colab": {
          "base_uri": "https://localhost:8080/"
        },
        "id": "09_Jyu2xHwYi",
        "outputId": "946d97f6-4604-4271-ab83-65c26ef202ae"
      },
      "execution_count": 26,
      "outputs": [
        {
          "output_type": "stream",
          "name": "stdout",
          "text": [
            "268014\n",
            "1\n",
            "\n",
            "zarre Adventure Over Heaven\n",
            "Translation by Kewl0210\n",
            "Editing by June\n",
            "\n",
            "\f2\n",
            "\n",
            "\f3\n",
            "\n",
            "\f4\n",
            "\n",
            "\f5\n",
            "\n",
            "\f6\n",
            "\n",
            "For Mr. Joutarou Kuujou\n",
            "\n",
            "\f7\n",
            "\n",
            "Forward\n",
            "\n",
            "If I said I didn't have any indecision about restoring and deciphering the\n",
            "notebook that Mr. Joutarou Kuujou incinerated in Egypt, I would without a doubt\n",
            "be lying. Because I felt that to bring those contents that Mr. Kuujou saw as too\n",
            "unsavory to leave in this world back into it was, on a level of professional ethics\n",
            "and perhaps an even more fundamental level, an unf\n"
          ]
        }
      ]
    },
    {
      "cell_type": "code",
      "source": [
        "import re\n",
        "text=\"hello, wassup lil niggas\"\n",
        "result=re.split(r'([,.]|\\s)',text)\n",
        "print(result)"
      ],
      "metadata": {
        "colab": {
          "base_uri": "https://localhost:8080/"
        },
        "id": "E8LQHeZVIC46",
        "outputId": "932c8088-bd34-4e1d-dfbe-31130a6e9c3d"
      },
      "execution_count": 27,
      "outputs": [
        {
          "output_type": "stream",
          "name": "stdout",
          "text": [
            "['hello', ',', '', ' ', 'wassup', ' ', 'lil', ' ', 'niggas']\n"
          ]
        }
      ]
    },
    {
      "cell_type": "code",
      "source": [
        "result=[item for item in result if item.strip()]\n",
        "print(result)"
      ],
      "metadata": {
        "id": "dRqFp5_XJ3EZ",
        "colab": {
          "base_uri": "https://localhost:8080/"
        },
        "outputId": "b0f09a01-5426-4270-874c-b2d82e112fef"
      },
      "execution_count": 28,
      "outputs": [
        {
          "output_type": "stream",
          "name": "stdout",
          "text": [
            "['hello', ',', 'wassup', 'lil', 'niggas']\n"
          ]
        }
      ]
    },
    {
      "cell_type": "code",
      "source": [
        "text=\"hello, wassup lil niggas.Is this ??? ! a text?!?!?--\"\n",
        "result=re.split(r'([,.:;?_\\-/\\()!]|\\s)',text)\n",
        "\n",
        "result=[item for item in result if item.strip()]\n",
        "print(result)"
      ],
      "metadata": {
        "colab": {
          "base_uri": "https://localhost:8080/"
        },
        "id": "Ba4JyR46SR1g",
        "outputId": "c13bdbfc-63fc-40dc-a915-421ff238b46c"
      },
      "execution_count": 29,
      "outputs": [
        {
          "output_type": "stream",
          "name": "stdout",
          "text": [
            "['hello', ',', 'wassup', 'lil', 'niggas', '.', 'Is', 'this', '?', '?', '?', '!', 'a', 'text', '?', '!', '?', '!', '?', '-', '-']\n"
          ]
        }
      ]
    },
    {
      "cell_type": "code",
      "source": [
        "preprocessed=re.split(r'([,.:;?_\\-/\\()!]|--|\\s)',raw_text)\n",
        "\n",
        "preprocessed=[item.strip() for item in preprocessed if item.strip()]\n",
        "print(preprocessed[:250])"
      ],
      "metadata": {
        "colab": {
          "base_uri": "https://localhost:8080/"
        },
        "id": "dY8M49pZTokB",
        "outputId": "90012dd4-312d-467a-874b-3e521fa132d5"
      },
      "execution_count": 35,
      "outputs": [
        {
          "output_type": "stream",
          "name": "stdout",
          "text": [
            "['1', 'zarre', 'Adventure', 'Over', 'Heaven', 'Translation', 'by', 'Kewl0210', 'Editing', 'by', 'June', '2', '3', '4', '5', '6', 'For', 'Mr', '.', 'Joutarou', 'Kuujou', '7', 'Forward', 'If', 'I', 'said', 'I', \"didn't\", 'have', 'any', 'indecision', 'about', 'restoring', 'and', 'deciphering', 'the', 'notebook', 'that', 'Mr', '.', 'Joutarou', 'Kuujou', 'incinerated', 'in', 'Egypt', ',', 'I', 'would', 'without', 'a', 'doubt', 'be', 'lying', '.', 'Because', 'I', 'felt', 'that', 'to', 'bring', 'those', 'contents', 'that', 'Mr', '.', 'Kuujou', 'saw', 'as', 'too', 'unsavory', 'to', 'leave', 'in', 'this', 'world', 'back', 'into', 'it', 'was', ',', 'on', 'a', 'level', 'of', 'professional', 'ethics', 'and', 'perhaps', 'an', 'even', 'more', 'fundamental', 'level', ',', 'an', 'unforgivable', 'and', 'barbaric', 'act', '.', 'But', 'at', 'the', 'end', 'of', 'a', 'series', 'of', 'twists', 'and', 'turns', ',', 'the', 'reason', 'I', 'finally', 'arrived', 'at', 'accepting', 'this', 'request', 'from', 'the', 'Speedwagon', 'Foundation', 'was', ',', 'of', 'course', ',', 'not', 'unrelated', 'to', 'that', 'of', 'Mr', '.', \"Kuujou's\", 'current', 'memory', 'loss', 'and', 'comatose', 'state', '.', 'The', 'Speedwagon', \"Foundation's\", 'theory', 'that', 'there', 'may', 'be', 'some', 'hint', 'in', 'the', 'notebook', 'that', 'can', 'lead', 'to', 'the', 'restoration', 'of', 'Mr', '.', \"Kuujou's\", 'consciousness', 'was', ',', 'at', 'the', 'very', 'least', ',', 'not', 'entirely', 'off', 'base', '.', 'When', 'I', 'was', 'told', 'that', ',', 'as', 'someone', 'who', 'owes', 'a', 'great', 'deal', 'to', 'Mr', '.', 'Kuujou', ',', 'I', 'was', 'not', 'in', 'very', 'much', 'of', 'a', 'position', 'to', 'preach', 'about', 'policy', ',', 'professional', 'ethics', ',', 'or', 'simple', 'common', 'sense', 'as', 'a', 'human', 'being', '.', 'Even', 'if', 'it', 'did', 'not', 'yield', 'any', 'hints', 'to', 'his', 'restoration', ',', 'in', 'order', 'to', 'even', 'decipher', 'a', 'part', 'of', 'what', 'caused', 'Mr', '.', 'Kuujou']\n"
          ]
        }
      ]
    },
    {
      "cell_type": "code",
      "source": [
        "print(len(preprocessed))\n",
        "print(len(raw_text))"
      ],
      "metadata": {
        "colab": {
          "base_uri": "https://localhost:8080/"
        },
        "id": "-nKOayN-VaoE",
        "outputId": "d6a00d99-b957-4e81-da75-84c16a97ed8a"
      },
      "execution_count": 36,
      "outputs": [
        {
          "output_type": "stream",
          "name": "stdout",
          "text": [
            "59589\n",
            "268014\n"
          ]
        }
      ]
    },
    {
      "cell_type": "code",
      "source": [
        "all_words=sorted(set(preprocessed))\n",
        "vocab_size=len(all_words)\n",
        "print(vocab_size)"
      ],
      "metadata": {
        "id": "9WanUKi_WA09",
        "colab": {
          "base_uri": "https://localhost:8080/"
        },
        "outputId": "94a93d2e-0287-4660-9bb6-cec53fb9c425"
      },
      "execution_count": 37,
      "outputs": [
        {
          "output_type": "stream",
          "name": "stdout",
          "text": [
            "5005\n"
          ]
        }
      ]
    },
    {
      "cell_type": "code",
      "source": [
        "vocab={token:integer for integer, token in enumerate(all_words)}\n"
      ],
      "metadata": {
        "id": "UjGFSeBpZb3Q"
      },
      "execution_count": 38,
      "outputs": []
    },
    {
      "cell_type": "code",
      "source": [
        "for i, item in enumerate(vocab.items()):\n",
        "  print(item)\n",
        "  if i>=50:\n",
        "    break"
      ],
      "metadata": {
        "colab": {
          "base_uri": "https://localhost:8080/"
        },
        "id": "9IlI42f4aFuw",
        "outputId": "3a8140c0-d814-44a1-c899-7a7a5c554500"
      },
      "execution_count": 39,
      "outputs": [
        {
          "output_type": "stream",
          "name": "stdout",
          "text": [
            "('!', 0)\n",
            "('\"', 1)\n",
            "('\"10\"', 2)\n",
            "('\"36\"', 3)\n",
            "('\"A', 4)\n",
            "('\"Absolute', 5)\n",
            "('\"All', 6)\n",
            "('\"Am', 7)\n",
            "('\"And', 8)\n",
            "('\"Animals', 9)\n",
            "('\"Anubis', 10)\n",
            "('\"Arrow', 11)\n",
            "('\"Arrow\"', 12)\n",
            "('\"Arrowhead', 13)\n",
            "('\"Arrowhead\"', 14)\n",
            "('\"As', 15)\n",
            "('\"Atem', 16)\n",
            "('\"Atum\"', 17)\n",
            "('\"Bastet', 18)\n",
            "('\"Bastet\"', 19)\n",
            "('\"Bow', 20)\n",
            "('\"Bow\"', 21)\n",
            "('\"But', 22)\n",
            "('\"By', 23)\n",
            "('\"Can', 24)\n",
            "('\"Controlling', 25)\n",
            "('\"Cream', 26)\n",
            "('\"Dark', 27)\n",
            "('\"Dear', 28)\n",
            "('\"Death', 29)\n",
            "('\"Diavolo', 30)\n",
            "('\"Dio', 31)\n",
            "('\"Dio\\'s', 32)\n",
            "('\"Do', 33)\n",
            "('\"Ebony', 34)\n",
            "('\"Emperor', 35)\n",
            "('\"Emperor\\'s\"', 36)\n",
            "('\"Empress', 37)\n",
            "('\"Empress\"', 38)\n",
            "('\"Erina', 39)\n",
            "('\"Even', 40)\n",
            "('\"Far', 41)\n",
            "('\"Father', 42)\n",
            "('\"For', 43)\n",
            "('\"Geb', 44)\n",
            "('\"Geb\\'s\"', 45)\n",
            "('\"Ghostly', 46)\n",
            "('\"Givers', 47)\n",
            "('\"Go', 48)\n",
            "('\"Gravity\"', 49)\n",
            "('\"Gyaha', 50)\n"
          ]
        }
      ]
    },
    {
      "cell_type": "code",
      "source": [
        "class SimpleTokenizerV1:\n",
        "  def __init__(self, vocab):\n",
        "    self.str_to_int=vocab\n",
        "    self.int_to_str={i:s for s,i in vocab.items()}\n",
        "  def encode(self,text):\n",
        "    preprocessed =re.split(r'([,.:;?_!\"()\\']|--|\\s)',text)\n",
        "    preprocessed=[\n",
        "        item.strip() for item in preprocessed if item.strip()\n",
        "    ]\n",
        "    ids=[self.str_to_int[s] for s in preprocessed]\n",
        "    return ids\n",
        "  def decode(self,ids):\n",
        "    text=\" \".join([self.int_to_str[i] for i in ids])\n",
        "    #replace spaces before the specified punctuations\n",
        "    text=re.sub(r'\\s+([,.?!\"()\\'])', r'\\1', text)\n",
        "    return text"
      ],
      "metadata": {
        "id": "-__eD_X4aV-k"
      },
      "execution_count": 42,
      "outputs": []
    },
    {
      "cell_type": "code",
      "source": [
        "tokenizer=SimpleTokenizerV1(vocab)\n",
        "text=\"\"\"However, if I were to say that that was the only reason I agreed to\n",
        "        decipher the notebook, it would also be a big lie. Truth be told, the first time \"\"\"\n",
        "ids=tokenizer.encode(text)\n",
        "print(ids)"
      ],
      "metadata": {
        "colab": {
          "base_uri": "https://localhost:8080/"
        },
        "id": "j-KKHksXgFtn",
        "outputId": "b0cd05ee-fbfd-42ee-c390-19da542724a8"
      },
      "execution_count": 48,
      "outputs": [
        {
          "output_type": "stream",
          "name": "stdout",
          "text": [
            "[846, 421, 2851, 849, 4893, 4629, 4091, 4569, 4569, 4863, 4572, 3486, 3873, 849, 1272, 4629, 1962, 4572, 3428, 421, 3010, 4968, 1302, 1469, 1175, 1511, 3124, 423, 1111, 1469, 4633, 421, 4572, 2464, 4622]\n"
          ]
        }
      ]
    },
    {
      "cell_type": "code",
      "source": [
        "tokenizer.decode(ids)"
      ],
      "metadata": {
        "colab": {
          "base_uri": "https://localhost:8080/",
          "height": 34
        },
        "id": "rk0ixlZdhZYT",
        "outputId": "f8dfc3a1-ea81-4b38-90ea-6ee11f8e94fe"
      },
      "execution_count": 49,
      "outputs": [
        {
          "output_type": "execute_result",
          "data": {
            "text/plain": [
              "'However, if I were to say that that was the only reason I agreed to decipher the notebook, it would also be a big lie. Truth be told, the first time'"
            ],
            "application/vnd.google.colaboratory.intrinsic+json": {
              "type": "string"
            }
          },
          "metadata": {},
          "execution_count": 49
        }
      ]
    },
    {
      "cell_type": "code",
      "source": [
        "all_tokens=sorted(list(set(preprocessed)))\n",
        "all_tokens.extend([\"<|endoftext|>\", \"<|unk|>\"])\n",
        "vocab={token:integer for integer, token in enumerate (all_tokens)}\n"
      ],
      "metadata": {
        "id": "oKSt70EPjuEx"
      },
      "execution_count": 52,
      "outputs": []
    },
    {
      "cell_type": "code",
      "source": [
        "len(vocab.items())"
      ],
      "metadata": {
        "colab": {
          "base_uri": "https://localhost:8080/"
        },
        "id": "r3W9ambNl6YR",
        "outputId": "297b7f09-03e8-45bf-e7c0-b2a7057998cd"
      },
      "execution_count": 55,
      "outputs": [
        {
          "output_type": "execute_result",
          "data": {
            "text/plain": [
              "5007"
            ]
          },
          "metadata": {},
          "execution_count": 55
        }
      ]
    },
    {
      "cell_type": "code",
      "source": [
        "for i, item in enumerate (list(vocab.items())[-5:]):\n",
        "  print(item)"
      ],
      "metadata": {
        "colab": {
          "base_uri": "https://localhost:8080/"
        },
        "id": "x9zU1P6Ql_Q6",
        "outputId": "3cf8f35b-ca5e-4bcd-eb60-6aff930f96b2"
      },
      "execution_count": 59,
      "outputs": [
        {
          "output_type": "stream",
          "name": "stdout",
          "text": [
            "('zombie', 5002)\n",
            "('zombies', 5003)\n",
            "('zombify', 5004)\n",
            "('<|endoftext|>', 5005)\n",
            "('<|unk|>', 5006)\n"
          ]
        }
      ]
    },
    {
      "cell_type": "code",
      "source": [
        "class SimpleTokenizerV2:\n",
        "  def __init__(self, vocab):\n",
        "    self.str_to_int=vocab\n",
        "    self.int_to_str={i:s for s,i in vocab.items()}\n",
        "  def encode(self,text):\n",
        "    preprocessed =re.split(r'([,.:;?_!\"()\\']|--|\\s)',text)\n",
        "    preprocessed=[\n",
        "        item.strip() for item in preprocessed if item.strip()\n",
        "    ]\n",
        "    preprocessed=[\n",
        "        item if item in self.str_to_int\n",
        "        else \"<|unk|>\" for item in preprocessed\n",
        "    ]\n",
        "    ids=[self.str_to_int[s] for s in preprocessed]\n",
        "    return ids\n",
        "  def decode(self,ids):\n",
        "    text=\" \".join([self.int_to_str[i] for i in ids])\n",
        "    #replace spaces before the specified punctuations\n",
        "    text=re.sub(r'\\s+([,.?!\"()\\'])', r'\\1', text)\n",
        "    return text"
      ],
      "metadata": {
        "id": "xGvQsxgpmIRj"
      },
      "execution_count": 66,
      "outputs": []
    },
    {
      "cell_type": "code",
      "source": [
        "tokenizer=SimpleTokenizerV2(vocab)\n",
        "text1=\"Ririk tmkc\"\n",
        "text2=\"hello Kuujou san \"\n",
        "text=\" <|endoftext|> \". join((text1, text2))\n",
        "print(text)"
      ],
      "metadata": {
        "colab": {
          "base_uri": "https://localhost:8080/"
        },
        "id": "UNtftmW1nmTF",
        "outputId": "d1a9a382-299c-4179-ea96-a52f0cf874f4"
      },
      "execution_count": 73,
      "outputs": [
        {
          "output_type": "stream",
          "name": "stdout",
          "text": [
            "Ririk tmkc <|endoftext|> hello Kuujou san \n"
          ]
        }
      ]
    },
    {
      "cell_type": "code",
      "source": [
        "print(tokenizer.encode(text))"
      ],
      "metadata": {
        "colab": {
          "base_uri": "https://localhost:8080/"
        },
        "id": "vjJIF-MOoJMU",
        "outputId": "9c74b365-33c7-4be4-f888-9b105236f8bf"
      },
      "execution_count": 74,
      "outputs": [
        {
          "output_type": "stream",
          "name": "stdout",
          "text": [
            "[5006, 5006, 5005, 5006, 898, 5006]\n"
          ]
        }
      ]
    },
    {
      "cell_type": "code",
      "source": [
        "print(tokenizer.decode(tokenizer.encode(text)))"
      ],
      "metadata": {
        "colab": {
          "base_uri": "https://localhost:8080/"
        },
        "id": "74EOdbB1oWCm",
        "outputId": "dafeaf67-8c03-470c-d1f2-29caf3c87fe7"
      },
      "execution_count": 76,
      "outputs": [
        {
          "output_type": "stream",
          "name": "stdout",
          "text": [
            "<|unk|> <|unk|> <|endoftext|> <|unk|> Kuujou <|unk|>\n"
          ]
        }
      ]
    },
    {
      "cell_type": "code",
      "source": [],
      "metadata": {
        "id": "R_F6r9Zip7kT"
      },
      "execution_count": null,
      "outputs": []
    }
  ]
}