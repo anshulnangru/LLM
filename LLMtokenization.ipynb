{
  "nbformat": 4,
  "nbformat_minor": 0,
  "metadata": {
    "colab": {
      "provenance": [],
      "mount_file_id": "1G0yAhxe6apQY57anyN4PXBryJw3HnKpT",
      "authorship_tag": "ABX9TyM0Eoj6PATtV90YNosJrr4B",
      "include_colab_link": true
    },
    "kernelspec": {
      "name": "python3",
      "display_name": "Python 3"
    },
    "language_info": {
      "name": "python"
    }
  },
  "cells": [
    {
      "cell_type": "markdown",
      "metadata": {
        "id": "view-in-github",
        "colab_type": "text"
      },
      "source": [
        "<a href=\"https://colab.research.google.com/github/anshulnangru/LLM/blob/main/LLMtokenization.ipynb\" target=\"_parent\"><img src=\"https://colab.research.google.com/assets/colab-badge.svg\" alt=\"Open In Colab\"/></a>"
      ]
    },
    {
      "cell_type": "code",
      "execution_count": 77,
      "metadata": {
        "id": "TeRtFN62CVNw"
      },
      "outputs": [],
      "source": [
        "with open(\"/content/drive/MyDrive/Data for LLM/Jojo's Bizarre Adventure - Over Heaven.txt\",\"r\", encoding=\"utf-8\") as f:\n",
        "  raw_text=f.read()"
      ]
    },
    {
      "cell_type": "code",
      "source": [
        "print(len(raw_text))\n",
        "print(raw_text[:500])"
      ],
      "metadata": {
        "colab": {
          "base_uri": "https://localhost:8080/"
        },
        "id": "09_Jyu2xHwYi",
        "outputId": "e2d0a694-e1c8-4e44-d3ed-13bebaee7cca"
      },
      "execution_count": 78,
      "outputs": [
        {
          "output_type": "stream",
          "name": "stdout",
          "text": [
            "268014\n",
            "1\n",
            "\n",
            "zarre Adventure Over Heaven\n",
            "Translation by Kewl0210\n",
            "Editing by June\n",
            "\n",
            "\f2\n",
            "\n",
            "\f3\n",
            "\n",
            "\f4\n",
            "\n",
            "\f5\n",
            "\n",
            "\f6\n",
            "\n",
            "For Mr. Joutarou Kuujou\n",
            "\n",
            "\f7\n",
            "\n",
            "Forward\n",
            "\n",
            "If I said I didn't have any indecision about restoring and deciphering the\n",
            "notebook that Mr. Joutarou Kuujou incinerated in Egypt, I would without a doubt\n",
            "be lying. Because I felt that to bring those contents that Mr. Kuujou saw as too\n",
            "unsavory to leave in this world back into it was, on a level of professional ethics\n",
            "and perhaps an even more fundamental level, an unf\n"
          ]
        }
      ]
    },
    {
      "cell_type": "code",
      "source": [
        "import re\n",
        "text=\"hello, wassup lil niggas\"\n",
        "result=re.split(r'([,.]|\\s)',text)\n",
        "print(result)"
      ],
      "metadata": {
        "colab": {
          "base_uri": "https://localhost:8080/"
        },
        "id": "E8LQHeZVIC46",
        "outputId": "de27bf8e-8239-4989-a8fd-076a54290a1f"
      },
      "execution_count": 79,
      "outputs": [
        {
          "output_type": "stream",
          "name": "stdout",
          "text": [
            "['hello', ',', '', ' ', 'wassup', ' ', 'lil', ' ', 'niggas']\n"
          ]
        }
      ]
    },
    {
      "cell_type": "code",
      "source": [
        "result=[item for item in result if item.strip()]\n",
        "print(result)"
      ],
      "metadata": {
        "id": "dRqFp5_XJ3EZ",
        "colab": {
          "base_uri": "https://localhost:8080/"
        },
        "outputId": "ac2df654-4d75-45bc-daf1-7e42c41db918"
      },
      "execution_count": 80,
      "outputs": [
        {
          "output_type": "stream",
          "name": "stdout",
          "text": [
            "['hello', ',', 'wassup', 'lil', 'niggas']\n"
          ]
        }
      ]
    },
    {
      "cell_type": "code",
      "source": [
        "text=\"hello, wassup lil niggas.Is this ??? ! a text?!?!?--\"\n",
        "result=re.split(r'([,.:;?_\\-/\\()!]|\\s)',text)\n",
        "\n",
        "result=[item for item in result if item.strip()]\n",
        "print(result)"
      ],
      "metadata": {
        "colab": {
          "base_uri": "https://localhost:8080/"
        },
        "id": "Ba4JyR46SR1g",
        "outputId": "6788120b-07ee-4e9d-cf45-1552b48023b1"
      },
      "execution_count": 81,
      "outputs": [
        {
          "output_type": "stream",
          "name": "stdout",
          "text": [
            "['hello', ',', 'wassup', 'lil', 'niggas', '.', 'Is', 'this', '?', '?', '?', '!', 'a', 'text', '?', '!', '?', '!', '?', '-', '-']\n"
          ]
        }
      ]
    },
    {
      "cell_type": "code",
      "source": [
        "preprocessed=re.split(r'([,.:;?_\\-/\\()!]|--|\\s)',raw_text)\n",
        "\n",
        "preprocessed=[item.strip() for item in preprocessed if item.strip()]\n",
        "print(preprocessed[:250])"
      ],
      "metadata": {
        "colab": {
          "base_uri": "https://localhost:8080/"
        },
        "id": "dY8M49pZTokB",
        "outputId": "fa0ec922-a159-44e4-84a2-2b719e73fa8a"
      },
      "execution_count": 82,
      "outputs": [
        {
          "output_type": "stream",
          "name": "stdout",
          "text": [
            "['1', 'zarre', 'Adventure', 'Over', 'Heaven', 'Translation', 'by', 'Kewl0210', 'Editing', 'by', 'June', '2', '3', '4', '5', '6', 'For', 'Mr', '.', 'Joutarou', 'Kuujou', '7', 'Forward', 'If', 'I', 'said', 'I', \"didn't\", 'have', 'any', 'indecision', 'about', 'restoring', 'and', 'deciphering', 'the', 'notebook', 'that', 'Mr', '.', 'Joutarou', 'Kuujou', 'incinerated', 'in', 'Egypt', ',', 'I', 'would', 'without', 'a', 'doubt', 'be', 'lying', '.', 'Because', 'I', 'felt', 'that', 'to', 'bring', 'those', 'contents', 'that', 'Mr', '.', 'Kuujou', 'saw', 'as', 'too', 'unsavory', 'to', 'leave', 'in', 'this', 'world', 'back', 'into', 'it', 'was', ',', 'on', 'a', 'level', 'of', 'professional', 'ethics', 'and', 'perhaps', 'an', 'even', 'more', 'fundamental', 'level', ',', 'an', 'unforgivable', 'and', 'barbaric', 'act', '.', 'But', 'at', 'the', 'end', 'of', 'a', 'series', 'of', 'twists', 'and', 'turns', ',', 'the', 'reason', 'I', 'finally', 'arrived', 'at', 'accepting', 'this', 'request', 'from', 'the', 'Speedwagon', 'Foundation', 'was', ',', 'of', 'course', ',', 'not', 'unrelated', 'to', 'that', 'of', 'Mr', '.', \"Kuujou's\", 'current', 'memory', 'loss', 'and', 'comatose', 'state', '.', 'The', 'Speedwagon', \"Foundation's\", 'theory', 'that', 'there', 'may', 'be', 'some', 'hint', 'in', 'the', 'notebook', 'that', 'can', 'lead', 'to', 'the', 'restoration', 'of', 'Mr', '.', \"Kuujou's\", 'consciousness', 'was', ',', 'at', 'the', 'very', 'least', ',', 'not', 'entirely', 'off', 'base', '.', 'When', 'I', 'was', 'told', 'that', ',', 'as', 'someone', 'who', 'owes', 'a', 'great', 'deal', 'to', 'Mr', '.', 'Kuujou', ',', 'I', 'was', 'not', 'in', 'very', 'much', 'of', 'a', 'position', 'to', 'preach', 'about', 'policy', ',', 'professional', 'ethics', ',', 'or', 'simple', 'common', 'sense', 'as', 'a', 'human', 'being', '.', 'Even', 'if', 'it', 'did', 'not', 'yield', 'any', 'hints', 'to', 'his', 'restoration', ',', 'in', 'order', 'to', 'even', 'decipher', 'a', 'part', 'of', 'what', 'caused', 'Mr', '.', 'Kuujou']\n"
          ]
        }
      ]
    },
    {
      "cell_type": "code",
      "source": [
        "print(len(preprocessed))\n",
        "print(len(raw_text))"
      ],
      "metadata": {
        "colab": {
          "base_uri": "https://localhost:8080/"
        },
        "id": "-nKOayN-VaoE",
        "outputId": "9dec5d88-5ac0-4726-b89b-c0c7b1a7a4de"
      },
      "execution_count": 83,
      "outputs": [
        {
          "output_type": "stream",
          "name": "stdout",
          "text": [
            "59589\n",
            "268014\n"
          ]
        }
      ]
    },
    {
      "cell_type": "code",
      "source": [
        "all_words=sorted(set(preprocessed))\n",
        "vocab_size=len(all_words)\n",
        "print(vocab_size)"
      ],
      "metadata": {
        "id": "9WanUKi_WA09",
        "colab": {
          "base_uri": "https://localhost:8080/"
        },
        "outputId": "78302069-0022-40b5-b907-87003867e336"
      },
      "execution_count": 84,
      "outputs": [
        {
          "output_type": "stream",
          "name": "stdout",
          "text": [
            "5005\n"
          ]
        }
      ]
    },
    {
      "cell_type": "code",
      "source": [
        "vocab={token:integer for integer, token in enumerate(all_words)}\n"
      ],
      "metadata": {
        "id": "UjGFSeBpZb3Q"
      },
      "execution_count": 85,
      "outputs": []
    },
    {
      "cell_type": "code",
      "source": [
        "for i, item in enumerate(vocab.items()):\n",
        "  print(item)\n",
        "  if i>=50:\n",
        "    break"
      ],
      "metadata": {
        "colab": {
          "base_uri": "https://localhost:8080/"
        },
        "id": "9IlI42f4aFuw",
        "outputId": "b1ebbdc3-9d53-4c8a-d918-0c24e06319ce"
      },
      "execution_count": 86,
      "outputs": [
        {
          "output_type": "stream",
          "name": "stdout",
          "text": [
            "('!', 0)\n",
            "('\"', 1)\n",
            "('\"10\"', 2)\n",
            "('\"36\"', 3)\n",
            "('\"A', 4)\n",
            "('\"Absolute', 5)\n",
            "('\"All', 6)\n",
            "('\"Am', 7)\n",
            "('\"And', 8)\n",
            "('\"Animals', 9)\n",
            "('\"Anubis', 10)\n",
            "('\"Arrow', 11)\n",
            "('\"Arrow\"', 12)\n",
            "('\"Arrowhead', 13)\n",
            "('\"Arrowhead\"', 14)\n",
            "('\"As', 15)\n",
            "('\"Atem', 16)\n",
            "('\"Atum\"', 17)\n",
            "('\"Bastet', 18)\n",
            "('\"Bastet\"', 19)\n",
            "('\"Bow', 20)\n",
            "('\"Bow\"', 21)\n",
            "('\"But', 22)\n",
            "('\"By', 23)\n",
            "('\"Can', 24)\n",
            "('\"Controlling', 25)\n",
            "('\"Cream', 26)\n",
            "('\"Dark', 27)\n",
            "('\"Dear', 28)\n",
            "('\"Death', 29)\n",
            "('\"Diavolo', 30)\n",
            "('\"Dio', 31)\n",
            "('\"Dio\\'s', 32)\n",
            "('\"Do', 33)\n",
            "('\"Ebony', 34)\n",
            "('\"Emperor', 35)\n",
            "('\"Emperor\\'s\"', 36)\n",
            "('\"Empress', 37)\n",
            "('\"Empress\"', 38)\n",
            "('\"Erina', 39)\n",
            "('\"Even', 40)\n",
            "('\"Far', 41)\n",
            "('\"Father', 42)\n",
            "('\"For', 43)\n",
            "('\"Geb', 44)\n",
            "('\"Geb\\'s\"', 45)\n",
            "('\"Ghostly', 46)\n",
            "('\"Givers', 47)\n",
            "('\"Go', 48)\n",
            "('\"Gravity\"', 49)\n",
            "('\"Gyaha', 50)\n"
          ]
        }
      ]
    },
    {
      "cell_type": "code",
      "source": [
        "class SimpleTokenizerV1:\n",
        "  def __init__(self, vocab):\n",
        "    self.str_to_int=vocab\n",
        "    self.int_to_str={i:s for s,i in vocab.items()}\n",
        "  def encode(self,text):\n",
        "    preprocessed =re.split(r'([,.:;?_!\"()\\']|--|\\s)',text)\n",
        "    preprocessed=[\n",
        "        item.strip() for item in preprocessed if item.strip()\n",
        "    ]\n",
        "    ids=[self.str_to_int[s] for s in preprocessed]\n",
        "    return ids\n",
        "  def decode(self,ids):\n",
        "    text=\" \".join([self.int_to_str[i] for i in ids])\n",
        "    #replace spaces before the specified punctuations\n",
        "    text=re.sub(r'\\s+([,.?!\"()\\'])', r'\\1', text)\n",
        "    return text"
      ],
      "metadata": {
        "id": "-__eD_X4aV-k"
      },
      "execution_count": 87,
      "outputs": []
    },
    {
      "cell_type": "code",
      "source": [
        "tokenizer=SimpleTokenizerV1(vocab)\n",
        "text=\"\"\"However, if I were to say that that was the only reason I agreed to\n",
        "        decipher the notebook, it would also be a big lie. Truth be told, the first time \"\"\"\n",
        "ids=tokenizer.encode(text)\n",
        "print(ids)"
      ],
      "metadata": {
        "colab": {
          "base_uri": "https://localhost:8080/"
        },
        "id": "j-KKHksXgFtn",
        "outputId": "fd348e60-e04c-4ec2-a986-4244b03a9ca8"
      },
      "execution_count": 88,
      "outputs": [
        {
          "output_type": "stream",
          "name": "stdout",
          "text": [
            "[846, 421, 2851, 849, 4893, 4629, 4091, 4569, 4569, 4863, 4572, 3486, 3873, 849, 1272, 4629, 1962, 4572, 3428, 421, 3010, 4968, 1302, 1469, 1175, 1511, 3124, 423, 1111, 1469, 4633, 421, 4572, 2464, 4622]\n"
          ]
        }
      ]
    },
    {
      "cell_type": "code",
      "source": [
        "tokenizer.decode(ids)"
      ],
      "metadata": {
        "colab": {
          "base_uri": "https://localhost:8080/",
          "height": 69
        },
        "id": "rk0ixlZdhZYT",
        "outputId": "cdbd6c08-a03e-445a-dff1-77b0669bb28d"
      },
      "execution_count": 89,
      "outputs": [
        {
          "output_type": "execute_result",
          "data": {
            "text/plain": [
              "'However, if I were to say that that was the only reason I agreed to decipher the notebook, it would also be a big lie. Truth be told, the first time'"
            ],
            "application/vnd.google.colaboratory.intrinsic+json": {
              "type": "string"
            }
          },
          "metadata": {},
          "execution_count": 89
        }
      ]
    },
    {
      "cell_type": "code",
      "source": [
        "all_tokens=sorted(list(set(preprocessed)))\n",
        "all_tokens.extend([\"<|endoftext|>\", \"<|unk|>\"])\n",
        "vocab={token:integer for integer, token in enumerate (all_tokens)}\n"
      ],
      "metadata": {
        "id": "oKSt70EPjuEx"
      },
      "execution_count": 90,
      "outputs": []
    },
    {
      "cell_type": "code",
      "source": [
        "len(vocab.items())"
      ],
      "metadata": {
        "colab": {
          "base_uri": "https://localhost:8080/"
        },
        "id": "r3W9ambNl6YR",
        "outputId": "16a2db17-d36c-43d3-cc3b-eace38f3367f"
      },
      "execution_count": 91,
      "outputs": [
        {
          "output_type": "execute_result",
          "data": {
            "text/plain": [
              "5007"
            ]
          },
          "metadata": {},
          "execution_count": 91
        }
      ]
    },
    {
      "cell_type": "code",
      "source": [
        "for i, item in enumerate (list(vocab.items())[-5:]):\n",
        "  print(item)"
      ],
      "metadata": {
        "colab": {
          "base_uri": "https://localhost:8080/"
        },
        "id": "x9zU1P6Ql_Q6",
        "outputId": "c2a11808-e6ce-4d78-e17c-9de61fc66cf2"
      },
      "execution_count": 92,
      "outputs": [
        {
          "output_type": "stream",
          "name": "stdout",
          "text": [
            "('zombie', 5002)\n",
            "('zombies', 5003)\n",
            "('zombify', 5004)\n",
            "('<|endoftext|>', 5005)\n",
            "('<|unk|>', 5006)\n"
          ]
        }
      ]
    },
    {
      "cell_type": "code",
      "source": [
        "class SimpleTokenizerV2:\n",
        "  def __init__(self, vocab):\n",
        "    self.str_to_int=vocab\n",
        "    self.int_to_str={i:s for s,i in vocab.items()}\n",
        "  def encode(self,text):\n",
        "    preprocessed =re.split(r'([,.:;?_!\"()\\']|--|\\s)',text)\n",
        "    preprocessed=[\n",
        "        item.strip() for item in preprocessed if item.strip()\n",
        "    ]\n",
        "    preprocessed=[\n",
        "        item if item in self.str_to_int\n",
        "        else \"<|unk|>\" for item in preprocessed #fro unkwon words\n",
        "    ]\n",
        "    ids=[self.str_to_int[s] for s in preprocessed]\n",
        "    return ids\n",
        "  def decode(self,ids):\n",
        "    text=\" \".join([self.int_to_str[i] for i in ids])\n",
        "    #replace spaces before the specified punctuations\n",
        "    text=re.sub(r'\\s+([,.?!\"()\\'])', r'\\1', text)\n",
        "    return text"
      ],
      "metadata": {
        "id": "xGvQsxgpmIRj"
      },
      "execution_count": 93,
      "outputs": []
    },
    {
      "cell_type": "code",
      "source": [
        "tokenizer=SimpleTokenizerV2(vocab)\n",
        "text1=\"Ririk tmkc\"\n",
        "text2=\"hello Kuujou san \"\n",
        "text=\" <|endoftext|> \". join((text1, text2))\n",
        "print(text)"
      ],
      "metadata": {
        "colab": {
          "base_uri": "https://localhost:8080/"
        },
        "id": "UNtftmW1nmTF",
        "outputId": "77a8d5e3-9e70-4e13-d626-039cbaa7a5f5"
      },
      "execution_count": 94,
      "outputs": [
        {
          "output_type": "stream",
          "name": "stdout",
          "text": [
            "Ririk tmkc <|endoftext|> hello Kuujou san \n"
          ]
        }
      ]
    },
    {
      "cell_type": "code",
      "source": [
        "print(tokenizer.encode(text))"
      ],
      "metadata": {
        "colab": {
          "base_uri": "https://localhost:8080/"
        },
        "id": "vjJIF-MOoJMU",
        "outputId": "9c282993-37bb-42ec-dde9-66041964a8f1"
      },
      "execution_count": 95,
      "outputs": [
        {
          "output_type": "stream",
          "name": "stdout",
          "text": [
            "[5006, 5006, 5005, 5006, 898, 5006]\n"
          ]
        }
      ]
    },
    {
      "cell_type": "code",
      "source": [
        "print(tokenizer.decode(tokenizer.encode(text)))"
      ],
      "metadata": {
        "colab": {
          "base_uri": "https://localhost:8080/"
        },
        "id": "74EOdbB1oWCm",
        "outputId": "aeff9668-9498-4891-ab13-e46f4180b081"
      },
      "execution_count": 96,
      "outputs": [
        {
          "output_type": "stream",
          "name": "stdout",
          "text": [
            "<|unk|> <|unk|> <|endoftext|> <|unk|> Kuujou <|unk|>\n"
          ]
        }
      ]
    },
    {
      "cell_type": "code",
      "source": [
        "! pip list\n"
      ],
      "metadata": {
        "colab": {
          "base_uri": "https://localhost:8080/"
        },
        "id": "R_F6r9Zip7kT",
        "outputId": "4c44af88-ecc5-44d3-8423-50a34515d36b"
      },
      "execution_count": 97,
      "outputs": [
        {
          "output_type": "stream",
          "name": "stdout",
          "text": [
            "Package                               Version\n",
            "------------------------------------- ------------------\n",
            "absl-py                               1.4.0\n",
            "absolufy-imports                      0.3.1\n",
            "accelerate                            1.10.1\n",
            "aiofiles                              24.1.0\n",
            "aiohappyeyeballs                      2.6.1\n",
            "aiohttp                               3.12.15\n",
            "aiosignal                             1.4.0\n",
            "alabaster                             1.0.0\n",
            "albucore                              0.0.24\n",
            "albumentations                        2.0.8\n",
            "ale-py                                0.11.2\n",
            "alembic                               1.16.5\n",
            "altair                                5.5.0\n",
            "annotated-types                       0.7.0\n",
            "antlr4-python3-runtime                4.9.3\n",
            "anyio                                 4.10.0\n",
            "anywidget                             0.9.18\n",
            "argon2-cffi                           25.1.0\n",
            "argon2-cffi-bindings                  25.1.0\n",
            "array_record                          0.8.1\n",
            "arrow                                 1.3.0\n",
            "arviz                                 0.22.0\n",
            "astropy                               7.1.0\n",
            "astropy-iers-data                     0.2025.9.1.0.42.11\n",
            "astunparse                            1.6.3\n",
            "atpublic                              5.1\n",
            "attrs                                 25.3.0\n",
            "audioread                             3.0.1\n",
            "Authlib                               1.6.3\n",
            "autograd                              1.8.0\n",
            "babel                                 2.17.0\n",
            "backcall                              0.2.0\n",
            "beartype                              0.21.0\n",
            "beautifulsoup4                        4.13.5\n",
            "betterproto                           2.0.0b6\n",
            "bigframes                             2.17.0\n",
            "bigquery-magics                       0.10.3\n",
            "bleach                                6.2.0\n",
            "blinker                               1.9.0\n",
            "blis                                  1.3.0\n",
            "blobfile                              3.0.0\n",
            "blosc2                                3.7.2\n",
            "bokeh                                 3.7.3\n",
            "Bottleneck                            1.4.2\n",
            "bqplot                                0.12.45\n",
            "branca                                0.8.1\n",
            "Brotli                                1.1.0\n",
            "build                                 1.3.0\n",
            "CacheControl                          0.14.3\n",
            "cachetools                            5.5.2\n",
            "catalogue                             2.0.10\n",
            "certifi                               2025.8.3\n",
            "cffi                                  1.17.1\n",
            "chardet                               5.2.0\n",
            "charset-normalizer                    3.4.3\n",
            "chex                                  0.1.90\n",
            "clarabel                              0.11.1\n",
            "click                                 8.2.1\n",
            "cloudpathlib                          0.22.0\n",
            "cloudpickle                           3.1.1\n",
            "cmake                                 3.31.6\n",
            "cmdstanpy                             1.2.5\n",
            "colorcet                              3.1.0\n",
            "colorlover                            0.3.0\n",
            "colour                                0.1.5\n",
            "community                             1.0.0b1\n",
            "confection                            0.1.5\n",
            "cons                                  0.4.7\n",
            "contourpy                             1.3.3\n",
            "cramjam                               2.11.0\n",
            "cryptography                          43.0.3\n",
            "cuda-python                           12.6.2.post1\n",
            "cudf-cu12                             25.6.0\n",
            "cudf-polars-cu12                      25.6.0\n",
            "cufflinks                             0.17.3\n",
            "cuml-cu12                             25.6.0\n",
            "cupy-cuda12x                          13.3.0\n",
            "curl_cffi                             0.13.0\n",
            "cuvs-cu12                             25.6.1\n",
            "cvxopt                                1.3.2\n",
            "cvxpy                                 1.6.7\n",
            "cycler                                0.12.1\n",
            "cyipopt                               1.5.0\n",
            "cymem                                 2.0.11\n",
            "Cython                                3.0.12\n",
            "dask                                  2025.5.0\n",
            "dask-cuda                             25.6.0\n",
            "dask-cudf-cu12                        25.6.0\n",
            "dataproc-spark-connect                0.8.3\n",
            "datasets                              4.0.0\n",
            "db-dtypes                             1.4.3\n",
            "dbus-python                           1.2.18\n",
            "debugpy                               1.8.15\n",
            "decorator                             4.4.2\n",
            "defusedxml                            0.7.1\n",
            "diffusers                             0.35.1\n",
            "dill                                  0.3.8\n",
            "distributed                           2025.5.0\n",
            "distributed-ucxx-cu12                 0.44.0\n",
            "distro                                1.9.0\n",
            "dlib                                  19.24.6\n",
            "dm-tree                               0.1.9\n",
            "docstring_parser                      0.17.0\n",
            "docutils                              0.21.2\n",
            "dopamine_rl                           4.1.2\n",
            "duckdb                                1.3.2\n",
            "earthengine-api                       1.5.24\n",
            "easydict                              1.13\n",
            "editdistance                          0.8.1\n",
            "eerepr                                0.1.2\n",
            "einops                                0.8.1\n",
            "en_core_web_sm                        3.8.0\n",
            "entrypoints                           0.4\n",
            "et_xmlfile                            2.0.0\n",
            "etils                                 1.13.0\n",
            "etuples                               0.3.10\n",
            "Farama-Notifications                  0.0.4\n",
            "fastai                                2.8.4\n",
            "fastapi                               0.116.1\n",
            "fastcore                              1.8.8\n",
            "fastdownload                          0.0.7\n",
            "fastjsonschema                        2.21.2\n",
            "fastprogress                          1.0.3\n",
            "fastrlock                             0.8.3\n",
            "fasttransform                         0.0.2\n",
            "ffmpy                                 0.6.1\n",
            "filelock                              3.19.1\n",
            "firebase-admin                        6.9.0\n",
            "Flask                                 3.1.2\n",
            "flatbuffers                           25.2.10\n",
            "flax                                  0.10.6\n",
            "folium                                0.20.0\n",
            "fonttools                             4.59.2\n",
            "fqdn                                  1.5.1\n",
            "frozendict                            2.4.6\n",
            "frozenlist                            1.7.0\n",
            "fsspec                                2025.3.0\n",
            "future                                1.0.0\n",
            "gast                                  0.6.0\n",
            "gcsfs                                 2025.3.0\n",
            "GDAL                                  3.8.4\n",
            "gdown                                 5.2.0\n",
            "geemap                                0.35.3\n",
            "geocoder                              1.38.1\n",
            "geographiclib                         2.1\n",
            "geopandas                             1.1.1\n",
            "geopy                                 2.4.1\n",
            "gin-config                            0.5.0\n",
            "gitdb                                 4.0.12\n",
            "GitPython                             3.1.45\n",
            "glob2                                 0.7\n",
            "google                                2.0.3\n",
            "google-adk                            1.13.0\n",
            "google-ai-generativelanguage          0.6.15\n",
            "google-api-core                       2.25.1\n",
            "google-api-python-client              2.181.0\n",
            "google-auth                           2.38.0\n",
            "google-auth-httplib2                  0.2.0\n",
            "google-auth-oauthlib                  1.2.2\n",
            "google-cloud-aiplatform               1.111.0\n",
            "google-cloud-appengine-logging        1.6.2\n",
            "google-cloud-audit-log                0.3.2\n",
            "google-cloud-bigquery                 3.36.0\n",
            "google-cloud-bigquery-connection      1.18.3\n",
            "google-cloud-bigquery-storage         2.32.0\n",
            "google-cloud-bigtable                 2.32.0\n",
            "google-cloud-core                     2.4.3\n",
            "google-cloud-dataproc                 5.21.0\n",
            "google-cloud-datastore                2.21.0\n",
            "google-cloud-firestore                2.21.0\n",
            "google-cloud-functions                1.20.4\n",
            "google-cloud-language                 2.17.2\n",
            "google-cloud-logging                  3.12.1\n",
            "google-cloud-resource-manager         1.14.2\n",
            "google-cloud-secret-manager           2.24.0\n",
            "google-cloud-spanner                  3.57.0\n",
            "google-cloud-speech                   2.33.0\n",
            "google-cloud-storage                  2.19.0\n",
            "google-cloud-trace                    1.16.2\n",
            "google-cloud-translate                3.21.1\n",
            "google-colab                          1.0.0\n",
            "google-crc32c                         1.7.1\n",
            "google-genai                          1.32.0\n",
            "google-generativeai                   0.8.5\n",
            "google-pasta                          0.2.0\n",
            "google-resumable-media                2.7.2\n",
            "googleapis-common-protos              1.70.0\n",
            "googledrivedownloader                 1.1.0\n",
            "gradio                                5.44.1\n",
            "gradio_client                         1.12.1\n",
            "graphviz                              0.21\n",
            "greenlet                              3.2.4\n",
            "groovy                                0.1.2\n",
            "grpc-google-iam-v1                    0.14.2\n",
            "grpc-interceptor                      0.15.4\n",
            "grpcio                                1.74.0\n",
            "grpcio-status                         1.71.2\n",
            "grpclib                               0.4.8\n",
            "gspread                               6.2.1\n",
            "gspread-dataframe                     4.0.0\n",
            "gym                                   0.25.2\n",
            "gym-notices                           0.1.0\n",
            "gymnasium                             1.2.0\n",
            "h11                                   0.16.0\n",
            "h2                                    4.3.0\n",
            "h5netcdf                              1.6.4\n",
            "h5py                                  3.14.0\n",
            "hdbscan                               0.8.40\n",
            "hf_transfer                           0.1.9\n",
            "hf-xet                                1.1.9\n",
            "highspy                               1.11.0\n",
            "holidays                              0.80\n",
            "holoviews                             1.21.0\n",
            "hpack                                 4.1.0\n",
            "html5lib                              1.1\n",
            "httpcore                              1.0.9\n",
            "httpimport                            1.4.1\n",
            "httplib2                              0.30.0\n",
            "httpx                                 0.28.1\n",
            "httpx-sse                             0.4.1\n",
            "huggingface-hub                       0.34.4\n",
            "humanize                              4.13.0\n",
            "hyperframe                            6.1.0\n",
            "hyperopt                              0.2.7\n",
            "ibis-framework                        9.5.0\n",
            "idna                                  3.10\n",
            "imageio                               2.37.0\n",
            "imageio-ffmpeg                        0.6.0\n",
            "imagesize                             1.4.1\n",
            "imbalanced-learn                      0.14.0\n",
            "immutabledict                         4.2.1\n",
            "importlib_metadata                    8.7.0\n",
            "importlib_resources                   6.5.2\n",
            "imutils                               0.5.4\n",
            "inflect                               7.5.0\n",
            "iniconfig                             2.1.0\n",
            "intel-cmplr-lib-ur                    2025.2.1\n",
            "intel-openmp                          2025.2.1\n",
            "ipyevents                             2.0.2\n",
            "ipyfilechooser                        0.6.0\n",
            "ipykernel                             6.17.1\n",
            "ipyleaflet                            0.20.0\n",
            "ipyparallel                           8.8.0\n",
            "ipython                               7.34.0\n",
            "ipython-genutils                      0.2.0\n",
            "ipython-sql                           0.5.0\n",
            "ipytree                               0.2.2\n",
            "ipywidgets                            7.7.1\n",
            "isoduration                           20.11.0\n",
            "itsdangerous                          2.2.0\n",
            "jaraco.classes                        3.4.0\n",
            "jaraco.context                        6.0.1\n",
            "jaraco.functools                      4.3.0\n",
            "jax                                   0.5.3\n",
            "jax-cuda12-pjrt                       0.5.3\n",
            "jax-cuda12-plugin                     0.5.3\n",
            "jaxlib                                0.5.3\n",
            "jeepney                               0.9.0\n",
            "jieba                                 0.42.1\n",
            "Jinja2                                3.1.6\n",
            "jiter                                 0.10.0\n",
            "joblib                                1.5.2\n",
            "jsonpatch                             1.33\n",
            "jsonpickle                            4.1.1\n",
            "jsonpointer                           3.0.0\n",
            "jsonschema                            4.25.1\n",
            "jsonschema-specifications             2025.4.1\n",
            "jupyter_client                        7.4.9\n",
            "jupyter-console                       6.6.3\n",
            "jupyter_core                          5.8.1\n",
            "jupyter-events                        0.12.0\n",
            "jupyter_kernel_gateway                2.5.2\n",
            "jupyter-leaflet                       0.20.0\n",
            "jupyter_server                        2.14.0\n",
            "jupyter_server_terminals              0.5.3\n",
            "jupyterlab_pygments                   0.3.0\n",
            "jupyterlab_widgets                    3.0.15\n",
            "jupytext                              1.17.3\n",
            "kaggle                                1.7.4.5\n",
            "kagglehub                             0.3.13\n",
            "keras                                 3.10.0\n",
            "keras-hub                             0.21.1\n",
            "keras-nlp                             0.21.1\n",
            "keyring                               25.6.0\n",
            "keyrings.google-artifactregistry-auth 1.1.2\n",
            "kiwisolver                            1.4.9\n",
            "langchain                             0.3.27\n",
            "langchain-core                        0.3.75\n",
            "langchain-text-splitters              0.3.11\n",
            "langcodes                             3.5.0\n",
            "langsmith                             0.4.23\n",
            "language_data                         1.3.0\n",
            "lark                                  1.2.2\n",
            "launchpadlib                          1.10.16\n",
            "lazr.restfulclient                    0.14.4\n",
            "lazr.uri                              1.0.6\n",
            "lazy_loader                           0.4\n",
            "libclang                              18.1.1\n",
            "libcudf-cu12                          25.6.0\n",
            "libcugraph-cu12                       25.6.0\n",
            "libcuml-cu12                          25.6.0\n",
            "libcuvs-cu12                          25.6.1\n",
            "libkvikio-cu12                        25.6.0\n",
            "libpysal                              4.13.0\n",
            "libraft-cu12                          25.6.0\n",
            "librmm-cu12                           25.6.0\n",
            "librosa                               0.11.0\n",
            "libucx-cu12                           1.18.1\n",
            "libucxx-cu12                          0.44.0\n",
            "lightgbm                              4.6.0\n",
            "linkify-it-py                         2.0.3\n",
            "llvmlite                              0.43.0\n",
            "locket                                1.0.0\n",
            "logical-unification                   0.4.6\n",
            "lxml                                  5.4.0\n",
            "Mako                                  1.3.10\n",
            "marisa-trie                           1.3.1\n",
            "Markdown                              3.8.2\n",
            "markdown-it-py                        4.0.0\n",
            "MarkupSafe                            3.0.2\n",
            "matplotlib                            3.10.0\n",
            "matplotlib-inline                     0.1.7\n",
            "matplotlib-venn                       1.1.2\n",
            "mcp                                   1.13.1\n",
            "mdit-py-plugins                       0.5.0\n",
            "mdurl                                 0.1.2\n",
            "miniKanren                            1.0.5\n",
            "missingno                             0.5.2\n",
            "mistune                               3.1.4\n",
            "mizani                                0.13.5\n",
            "mkl                                   2025.2.0\n",
            "ml_dtypes                             0.5.3\n",
            "mlxtend                               0.23.4\n",
            "more-itertools                        10.8.0\n",
            "moviepy                               1.0.3\n",
            "mpmath                                1.3.0\n",
            "msgpack                               1.1.1\n",
            "multidict                             6.6.4\n",
            "multipledispatch                      1.0.0\n",
            "multiprocess                          0.70.16\n",
            "multitasking                          0.0.12\n",
            "murmurhash                            1.0.13\n",
            "music21                               9.3.0\n",
            "namex                                 0.1.0\n",
            "narwhals                              2.3.0\n",
            "natsort                               8.4.0\n",
            "nbclassic                             1.3.1\n",
            "nbclient                              0.10.2\n",
            "nbconvert                             7.16.6\n",
            "nbformat                              5.10.4\n",
            "ndindex                               1.10.0\n",
            "nest-asyncio                          1.6.0\n",
            "networkx                              3.5\n",
            "nibabel                               5.3.2\n",
            "nltk                                  3.9.1\n",
            "notebook                              6.5.7\n",
            "notebook_shim                         0.2.4\n",
            "numba                                 0.60.0\n",
            "numba-cuda                            0.11.0\n",
            "numexpr                               2.11.0\n",
            "numpy                                 2.0.2\n",
            "nvidia-cublas-cu12                    12.6.4.1\n",
            "nvidia-cuda-cupti-cu12                12.6.80\n",
            "nvidia-cuda-nvcc-cu12                 12.5.82\n",
            "nvidia-cuda-nvrtc-cu12                12.6.77\n",
            "nvidia-cuda-runtime-cu12              12.6.77\n",
            "nvidia-cudnn-cu12                     9.10.2.21\n",
            "nvidia-cufft-cu12                     11.3.0.4\n",
            "nvidia-cufile-cu12                    1.11.1.6\n",
            "nvidia-curand-cu12                    10.3.7.77\n",
            "nvidia-cusolver-cu12                  11.7.1.2\n",
            "nvidia-cusparse-cu12                  12.5.4.2\n",
            "nvidia-cusparselt-cu12                0.7.1\n",
            "nvidia-ml-py                          12.575.51\n",
            "nvidia-nccl-cu12                      2.27.3\n",
            "nvidia-nvjitlink-cu12                 12.6.85\n",
            "nvidia-nvtx-cu12                      12.6.77\n",
            "nvtx                                  0.2.13\n",
            "nx-cugraph-cu12                       25.6.0\n",
            "oauth2client                          4.1.3\n",
            "oauthlib                              3.3.1\n",
            "omegaconf                             2.3.0\n",
            "openai                                1.104.2\n",
            "opencv-contrib-python                 4.12.0.88\n",
            "opencv-python                         4.12.0.88\n",
            "opencv-python-headless                4.12.0.88\n",
            "openpyxl                              3.1.5\n",
            "opentelemetry-api                     1.36.0\n",
            "opentelemetry-exporter-gcp-trace      1.9.0\n",
            "opentelemetry-resourcedetector-gcp    1.9.0a0\n",
            "opentelemetry-sdk                     1.36.0\n",
            "opentelemetry-semantic-conventions    0.57b0\n",
            "opt_einsum                            3.4.0\n",
            "optax                                 0.2.5\n",
            "optree                                0.17.0\n",
            "orbax-checkpoint                      0.11.24\n",
            "orjson                                3.11.3\n",
            "osqp                                  1.0.4\n",
            "overrides                             7.7.0\n",
            "packaging                             25.0\n",
            "pandas                                2.2.2\n",
            "pandas-datareader                     0.10.0\n",
            "pandas-gbq                            0.29.2\n",
            "pandas-stubs                          2.2.2.240909\n",
            "pandocfilters                         1.5.1\n",
            "panel                                 1.7.5\n",
            "param                                 2.2.1\n",
            "parso                                 0.8.5\n",
            "parsy                                 2.1\n",
            "partd                                 1.4.2\n",
            "patsy                                 1.0.1\n",
            "peewee                                3.18.2\n",
            "peft                                  0.17.1\n",
            "pexpect                               4.9.0\n",
            "pickleshare                           0.7.5\n",
            "pillow                                11.3.0\n",
            "pip                                   24.1.2\n",
            "platformdirs                          4.4.0\n",
            "plotly                                5.24.1\n",
            "plotnine                              0.14.5\n",
            "pluggy                                1.6.0\n",
            "plum-dispatch                         2.5.7\n",
            "ply                                   3.11\n",
            "polars                                1.25.2\n",
            "pooch                                 1.8.2\n",
            "portpicker                            1.5.2\n",
            "preshed                               3.0.10\n",
            "prettytable                           3.16.0\n",
            "proglog                               0.1.12\n",
            "progressbar2                          4.5.0\n",
            "prometheus_client                     0.22.1\n",
            "promise                               2.3\n",
            "prompt_toolkit                        3.0.52\n",
            "propcache                             0.3.2\n",
            "prophet                               1.1.7\n",
            "proto-plus                            1.26.1\n",
            "protobuf                              5.29.5\n",
            "psutil                                5.9.5\n",
            "psycopg2                              2.9.10\n",
            "psygnal                               0.14.1\n",
            "ptyprocess                            0.7.0\n",
            "py-cpuinfo                            9.0.0\n",
            "py4j                                  0.10.9.7\n",
            "pyarrow                               18.1.0\n",
            "pyasn1                                0.6.1\n",
            "pyasn1_modules                        0.4.2\n",
            "pycairo                               1.28.0\n",
            "pycocotools                           2.0.10\n",
            "pycparser                             2.22\n",
            "pycryptodomex                         3.23.0\n",
            "pydantic                              2.11.7\n",
            "pydantic_core                         2.33.2\n",
            "pydantic-settings                     2.10.1\n",
            "pydata-google-auth                    1.9.1\n",
            "pydot                                 3.0.4\n",
            "pydotplus                             2.0.2\n",
            "PyDrive2                              1.21.3\n",
            "pydub                                 0.25.1\n",
            "pyerfa                                2.0.1.5\n",
            "pygame                                2.6.1\n",
            "pygit2                                1.18.2\n",
            "Pygments                              2.19.2\n",
            "PyGObject                             3.42.0\n",
            "PyJWT                                 2.10.1\n",
            "pylibcudf-cu12                        25.6.0\n",
            "pylibcugraph-cu12                     25.6.0\n",
            "pylibraft-cu12                        25.6.0\n",
            "pymc                                  5.25.1\n",
            "pynndescent                           0.5.13\n",
            "pynvjitlink-cu12                      0.7.0\n",
            "pynvml                                12.0.0\n",
            "pyogrio                               0.11.1\n",
            "pyomo                                 6.9.4\n",
            "PyOpenGL                              3.1.10\n",
            "pyOpenSSL                             24.2.1\n",
            "pyparsing                             3.2.3\n",
            "pyperclip                             1.9.0\n",
            "pyproj                                3.7.2\n",
            "pyproject_hooks                       1.2.0\n",
            "pyshp                                 2.3.1\n",
            "PySocks                               1.7.1\n",
            "pyspark                               3.5.1\n",
            "pytensor                              2.31.7\n",
            "pytest                                8.4.1\n",
            "python-apt                            0.0.0\n",
            "python-box                            7.3.2\n",
            "python-dateutil                       2.9.0.post0\n",
            "python-dotenv                         1.1.1\n",
            "python-json-logger                    3.3.0\n",
            "python-louvain                        0.16\n",
            "python-multipart                      0.0.20\n",
            "python-slugify                        8.0.4\n",
            "python-snappy                         0.7.3\n",
            "python-utils                          3.9.1\n",
            "pytz                                  2025.2\n",
            "pyviz_comms                           3.0.6\n",
            "PyWavelets                            1.9.0\n",
            "PyYAML                                6.0.2\n",
            "pyzmq                                 26.2.1\n",
            "raft-dask-cu12                        25.6.0\n",
            "rapids-dask-dependency                25.6.0\n",
            "rapids-logger                         0.1.1\n",
            "ratelim                               0.1.6\n",
            "referencing                           0.36.2\n",
            "regex                                 2024.11.6\n",
            "requests                              2.32.4\n",
            "requests-oauthlib                     2.0.0\n",
            "requests-toolbelt                     1.0.0\n",
            "requirements-parser                   0.9.0\n",
            "rfc3339-validator                     0.1.4\n",
            "rfc3986-validator                     0.1.1\n",
            "rfc3987-syntax                        1.1.0\n",
            "rich                                  13.9.4\n",
            "rmm-cu12                              25.6.0\n",
            "roman-numerals-py                     3.1.0\n",
            "rpds-py                               0.27.1\n",
            "rpy2                                  3.5.17\n",
            "rsa                                   4.9.1\n",
            "ruff                                  0.12.11\n",
            "safehttpx                             0.1.6\n",
            "safetensors                           0.6.2\n",
            "scikit-image                          0.25.2\n",
            "scikit-learn                          1.6.1\n",
            "scipy                                 1.16.1\n",
            "scooby                                0.10.1\n",
            "scs                                   3.2.8\n",
            "seaborn                               0.13.2\n",
            "SecretStorage                         3.3.3\n",
            "semantic-version                      2.10.0\n",
            "Send2Trash                            1.8.3\n",
            "sentence-transformers                 5.1.0\n",
            "sentencepiece                         0.2.1\n",
            "sentry-sdk                            2.35.2\n",
            "setuptools                            75.2.0\n",
            "shap                                  0.48.0\n",
            "shapely                               2.1.1\n",
            "shellingham                           1.5.4\n",
            "simple-parsing                        0.1.7\n",
            "simplejson                            3.20.1\n",
            "simsimd                               6.5.1\n",
            "six                                   1.17.0\n",
            "sklearn-pandas                        2.2.0\n",
            "slicer                                0.0.8\n",
            "smart_open                            7.3.0.post1\n",
            "smmap                                 5.0.2\n",
            "sniffio                               1.3.1\n",
            "snowballstemmer                       3.0.1\n",
            "sortedcontainers                      2.4.0\n",
            "soundfile                             0.13.1\n",
            "soupsieve                             2.8\n",
            "soxr                                  0.5.0.post1\n",
            "spacy                                 3.8.7\n",
            "spacy-legacy                          3.0.12\n",
            "spacy-loggers                         1.0.5\n",
            "spanner-graph-notebook                1.1.8\n",
            "Sphinx                                8.2.3\n",
            "sphinxcontrib-applehelp               2.0.0\n",
            "sphinxcontrib-devhelp                 2.0.0\n",
            "sphinxcontrib-htmlhelp                2.1.0\n",
            "sphinxcontrib-jsmath                  1.0.1\n",
            "sphinxcontrib-qthelp                  2.0.0\n",
            "sphinxcontrib-serializinghtml         2.0.0\n",
            "SQLAlchemy                            2.0.43\n",
            "sqlalchemy-spanner                    1.16.0\n",
            "sqlglot                               25.20.2\n",
            "sqlparse                              0.5.3\n",
            "srsly                                 2.5.1\n",
            "sse-starlette                         3.0.2\n",
            "stanio                                0.5.1\n",
            "starlette                             0.47.3\n",
            "statsmodels                           0.14.5\n",
            "stringzilla                           3.12.6\n",
            "stumpy                                1.13.0\n",
            "sympy                                 1.13.3\n",
            "tables                                3.10.2\n",
            "tabulate                              0.9.0\n",
            "tbb                                   2022.2.0\n",
            "tblib                                 3.1.0\n",
            "tcmlib                                1.4.0\n",
            "tenacity                              8.5.0\n",
            "tensorboard                           2.19.0\n",
            "tensorboard-data-server               0.7.2\n",
            "tensorflow                            2.19.0\n",
            "tensorflow-datasets                   4.9.9\n",
            "tensorflow_decision_forests           1.12.0\n",
            "tensorflow-hub                        0.16.1\n",
            "tensorflow-metadata                   1.17.2\n",
            "tensorflow-probability                0.25.0\n",
            "tensorflow-text                       2.19.0\n",
            "tensorstore                           0.1.76\n",
            "termcolor                             3.1.0\n",
            "terminado                             0.18.1\n",
            "text-unidecode                        1.3\n",
            "textblob                              0.19.0\n",
            "tf_keras                              2.19.0\n",
            "tf-slim                               1.1.0\n",
            "thinc                                 8.3.6\n",
            "threadpoolctl                         3.6.0\n",
            "tifffile                              2025.8.28\n",
            "tiktoken                              0.11.0\n",
            "timm                                  1.0.19\n",
            "tinycss2                              1.4.0\n",
            "tokenizers                            0.22.0\n",
            "toml                                  0.10.2\n",
            "tomlkit                               0.13.3\n",
            "toolz                                 0.12.1\n",
            "torch                                 2.8.0+cu126\n",
            "torchao                               0.10.0\n",
            "torchaudio                            2.8.0+cu126\n",
            "torchdata                             0.11.0\n",
            "torchsummary                          1.5.1\n",
            "torchtune                             0.6.1\n",
            "torchvision                           0.23.0+cu126\n",
            "tornado                               6.4.2\n",
            "tqdm                                  4.67.1\n",
            "traitlets                             5.7.1\n",
            "traittypes                            0.2.1\n",
            "transformers                          4.56.0\n",
            "treelite                              4.4.1\n",
            "treescope                             0.1.10\n",
            "triton                                3.4.0\n",
            "tsfresh                               0.21.1\n",
            "tweepy                                4.16.0\n",
            "typeguard                             4.4.4\n",
            "typer                                 0.17.3\n",
            "types-python-dateutil                 2.9.0.20250822\n",
            "types-pytz                            2025.2.0.20250809\n",
            "types-setuptools                      80.9.0.20250822\n",
            "typing_extensions                     4.15.0\n",
            "typing-inspection                     0.4.1\n",
            "tzdata                                2025.2\n",
            "tzlocal                               5.3.1\n",
            "uc-micro-py                           1.0.3\n",
            "ucx-py-cu12                           0.44.0\n",
            "ucxx-cu12                             0.44.0\n",
            "umap-learn                            0.5.9.post2\n",
            "umf                                   0.11.0\n",
            "uri-template                          1.3.0\n",
            "uritemplate                           4.2.0\n",
            "urllib3                               2.5.0\n",
            "uvicorn                               0.35.0\n",
            "vega-datasets                         0.9.0\n",
            "wadllib                               1.3.6\n",
            "wandb                                 0.21.3\n",
            "wasabi                                1.1.3\n",
            "watchdog                              6.0.0\n",
            "wcwidth                               0.2.13\n",
            "weasel                                0.4.1\n",
            "webcolors                             24.11.1\n",
            "webencodings                          0.5.1\n",
            "websocket-client                      1.8.0\n",
            "websockets                            15.0.1\n",
            "Werkzeug                              3.1.3\n",
            "wheel                                 0.45.1\n",
            "widgetsnbextension                    3.6.10\n",
            "wordcloud                             1.9.4\n",
            "wrapt                                 1.17.3\n",
            "wurlitzer                             3.1.1\n",
            "xarray                                2025.8.0\n",
            "xarray-einstats                       0.9.1\n",
            "xgboost                               3.0.4\n",
            "xlrd                                  2.0.2\n",
            "xxhash                                3.5.0\n",
            "xyzservices                           2025.4.0\n",
            "yarl                                  1.20.1\n",
            "ydf                                   0.13.0\n",
            "yellowbrick                           1.5\n",
            "yfinance                              0.2.65\n",
            "zict                                  3.0.0\n",
            "zipp                                  3.23.0\n",
            "zstandard                             0.24.0\n"
          ]
        }
      ]
    },
    {
      "cell_type": "code",
      "source": [
        "! pip3 install tiktoken"
      ],
      "metadata": {
        "colab": {
          "base_uri": "https://localhost:8080/"
        },
        "id": "SqsvD5t34jjj",
        "outputId": "0f1d04ef-62a6-4c0d-85a2-6575ba1614c2"
      },
      "execution_count": 98,
      "outputs": [
        {
          "output_type": "stream",
          "name": "stdout",
          "text": [
            "Requirement already satisfied: tiktoken in /usr/local/lib/python3.12/dist-packages (0.11.0)\n",
            "Requirement already satisfied: regex>=2022.1.18 in /usr/local/lib/python3.12/dist-packages (from tiktoken) (2024.11.6)\n",
            "Requirement already satisfied: requests>=2.26.0 in /usr/local/lib/python3.12/dist-packages (from tiktoken) (2.32.4)\n",
            "Requirement already satisfied: charset_normalizer<4,>=2 in /usr/local/lib/python3.12/dist-packages (from requests>=2.26.0->tiktoken) (3.4.3)\n",
            "Requirement already satisfied: idna<4,>=2.5 in /usr/local/lib/python3.12/dist-packages (from requests>=2.26.0->tiktoken) (3.10)\n",
            "Requirement already satisfied: urllib3<3,>=1.21.1 in /usr/local/lib/python3.12/dist-packages (from requests>=2.26.0->tiktoken) (2.5.0)\n",
            "Requirement already satisfied: certifi>=2017.4.17 in /usr/local/lib/python3.12/dist-packages (from requests>=2.26.0->tiktoken) (2025.8.3)\n"
          ]
        }
      ]
    },
    {
      "cell_type": "code",
      "source": [
        "import importlib\n",
        "import tiktoken"
      ],
      "metadata": {
        "id": "XJ6xemZ54pU5"
      },
      "execution_count": 99,
      "outputs": []
    },
    {
      "cell_type": "code",
      "source": [
        "#gpt4 tokenizer\n",
        "#\"gpt2\" is gpt2's tokenizer\n",
        "tokenizer=tiktoken.get_encoding(\"o200k_base\")"
      ],
      "metadata": {
        "id": "v5_yryIi43CO"
      },
      "execution_count": 113,
      "outputs": []
    },
    {
      "cell_type": "code",
      "source": [
        "text=(\n",
        "    \"hello baby how do you do ek minute to ghat ja tu pata nahi mujhe ye samajh nahi ata mere sath kabhi koi club nahi apni feelings koi nahhi sunata mai pilu sala koi fir muh nahi lagata kyuki chaar bottle vodka kaam mera ro ka na mujhko koi roke na kisi ne roka!!!!!\"\n",
        ")\n",
        "integers=tokenizer.encode(text,allowed_special={\"<|endoftext|>\"})\n",
        "print(integers)\n",
        "#by passing raw_text instead of just text we can even decode the entire novel which is crazy asfff"
      ],
      "metadata": {
        "colab": {
          "base_uri": "https://localhost:8080/"
        },
        "id": "DAgeLzrC6T6_",
        "outputId": "c38a8b10-ef6e-468e-fb16-cda0595663a3"
      },
      "execution_count": 118,
      "outputs": [
        {
          "output_type": "stream",
          "name": "stdout",
          "text": [
            "[31373, 5156, 703, 466, 345, 466, 304, 74, 5664, 284, 308, 5183, 45091, 12777, 279, 1045, 299, 32810, 285, 23577, 258, 9838, 6072, 1228, 71, 299, 32810, 379, 64, 5019, 264, 776, 479, 397, 5303, 479, 23013, 3430, 299, 32810, 2471, 8461, 7666, 479, 23013, 299, 993, 5303, 4252, 1045, 285, 1872, 5560, 84, 3664, 64, 479, 23013, 37979, 285, 7456, 299, 32810, 19470, 1045, 479, 88, 11308, 17792, 283, 9294, 36279, 38387, 321, 4017, 64, 686, 38387, 12385, 285, 23577, 71, 7204, 479, 23013, 686, 365, 12385, 479, 23267, 497, 686, 4914, 50184]\n"
          ]
        }
      ]
    },
    {
      "cell_type": "code",
      "source": [
        "strings=tokenizer.decode(integers)"
      ],
      "metadata": {
        "id": "tPpZ7CTc72bR"
      },
      "execution_count": 119,
      "outputs": []
    },
    {
      "cell_type": "code",
      "source": [
        "print(strings)"
      ],
      "metadata": {
        "colab": {
          "base_uri": "https://localhost:8080/"
        },
        "id": "O-qA4L_s92Kp",
        "outputId": "08c62da5-f2b2-462a-9e27-2d9479a455c4"
      },
      "execution_count": 120,
      "outputs": [
        {
          "output_type": "stream",
          "name": "stdout",
          "text": [
            "hello baby how do you do ek minute to ghat ja tu pata nahi mujhe ye samajh nahi ata mere sath kabhi koi club nahi apni feelings koi nahhi sunata mai pilu sala koi fir muh nahi lagata kyuki chaar bottle vodka kaam mera ro ka na mujhko koi roke na kisi ne roka!!!!!\n"
          ]
        }
      ]
    },
    {
      "cell_type": "code",
      "source": [
        "#random letters encoding and decoding\n",
        "integers=tokenizer.encode(\"Akwuhruogf h45 677 $$$$$ ^& *& fver\")\n",
        "print(integers)\n",
        "strings=tokenizer.decode(integers)\n",
        "print(strings)"
      ],
      "metadata": {
        "colab": {
          "base_uri": "https://localhost:8080/"
        },
        "id": "aDIrJoXh944z",
        "outputId": "695fd464-b614-40d5-9177-588d7460d024"
      },
      "execution_count": 123,
      "outputs": [
        {
          "output_type": "stream",
          "name": "stdout",
          "text": [
            "[33901, 86, 7456, 622, 519, 69, 289, 2231, 718, 3324, 720, 36737, 10563, 5, 1635, 5, 277, 332]\n",
            "Akwuhruogf h45 677 $$$$$ ^& *& fver\n"
          ]
        }
      ]
    },
    {
      "cell_type": "code",
      "source": [],
      "metadata": {
        "id": "zwX8iSKvBIXe"
      },
      "execution_count": null,
      "outputs": []
    }
  ]
}